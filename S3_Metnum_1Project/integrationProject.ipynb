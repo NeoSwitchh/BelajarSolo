{
 "cells": [
  {
   "cell_type": "code",
   "execution_count": null,
   "metadata": {},
   "outputs": [],
   "source": [
    "import numpy as np \n",
    "import pandas as pd \n",
    "import pylab as plt\n",
    "import seaborn as sns\n",
    "from sklearn import preprocessing\n",
    "import time\n",
    "from datetime import datetime\n",
    "from scipy import integrate, optimize\n",
    "import warnings\n",
    "import seaborn as sns\n",
    "plt.style.use(\"seaborn\")\n",
    "warnings.filterwarnings('ignore')"
   ]
  },
  {
   "cell_type": "code",
   "execution_count": null,
   "metadata": {},
   "outputs": [],
   "source": [
    "input_dir = 'convertcsv.csv'\n",
    "data = pd.read_csv(input_dir)\n",
    "print(data.tail())"
   ]
  },
  {
   "cell_type": "code",
   "execution_count": null,
   "metadata": {},
   "outputs": [],
   "source": [
    "a = 0\n",
    "b = np.pi\n",
    "n = 11\n",
    "h = (b - a) / (n - 1)\n",
    "x = np.linspace(a, b, n)\n",
    "f = data\n",
    "\n",
    "I_trap = (h/2)*(f[0] + \\\n",
    "          2 * sum(f[1:n-1]) + f[n-1])\n",
    "err_trap = 2 - I_trap\n",
    "\n",
    "print(I_trap)\n",
    "print(err_trap)"
   ]
  }
 ],
 "metadata": {
  "language_info": {
   "name": "python"
  },
  "orig_nbformat": 4
 },
 "nbformat": 4,
 "nbformat_minor": 2
}
